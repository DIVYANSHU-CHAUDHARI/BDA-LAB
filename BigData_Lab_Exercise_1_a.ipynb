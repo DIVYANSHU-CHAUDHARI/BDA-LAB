{
  "nbformat": 4,
  "nbformat_minor": 0,
  "metadata": {
    "colab": {
      "name": "BigData Lab Exercise 1.a",
      "provenance": [],
      "collapsed_sections": []
    },
    "kernelspec": {
      "name": "python3",
      "display_name": "Python 3"
    }
  },
  "cells": [
    {
      "cell_type": "markdown",
      "metadata": {
        "id": "lo5ePKLmyHfJ"
      },
      "source": [
        "**BDA Lab Exercise 1.a**\r\n",
        "\r\n",
        "**Name** : Divyanshu Chaudhari\r\n",
        "\r\n",
        "**Roll no** : MCS20014"
      ]
    },
    {
      "cell_type": "code",
      "metadata": {
        "id": "YPs8WM5LsL8S"
      },
      "source": [
        "import matplotlib.pyplot as plt    #visualisation of data\r\n",
        "import seaborn as sns              #visualisation of data\r\n",
        "import pandas as pd                #Data Manipulation and Analysis\r\n"
      ],
      "execution_count": 183,
      "outputs": []
    },
    {
      "cell_type": "code",
      "metadata": {
        "id": "df360pJiOsGM"
      },
      "source": [
        "from google.colab import drive     #Importing module for mounting drive in google collab"
      ],
      "execution_count": 184,
      "outputs": []
    },
    {
      "cell_type": "code",
      "metadata": {
        "id": "yGAFDgeDPRrx",
        "colab": {
          "base_uri": "https://localhost:8080/"
        },
        "outputId": "dd6acdd5-ac7a-419b-9f48-6085af40169b"
      },
      "source": [
        "drive.mount('/content/drive')      #Drive mounted"
      ],
      "execution_count": 185,
      "outputs": [
        {
          "output_type": "stream",
          "text": [
            "Drive already mounted at /content/drive; to attempt to forcibly remount, call drive.mount(\"/content/drive\", force_remount=True).\n"
          ],
          "name": "stdout"
        }
      ]
    },
    {
      "cell_type": "code",
      "metadata": {
        "id": "wGc2jqAqll5O"
      },
      "source": [
        "df = pd.read_csv('/content/drive/MyDrive/twitter_dataset.csv')  #Read twitter dataset in df"
      ],
      "execution_count": 186,
      "outputs": []
    },
    {
      "cell_type": "code",
      "metadata": {
        "id": "9Q0F-vImq5rq",
        "colab": {
          "base_uri": "https://localhost:8080/",
          "height": 564
        },
        "outputId": "e4c2af9b-6858-42cd-e7c8-d06347031fc5"
      },
      "source": [
        "df.head(5)   # To display the top 5 rows "
      ],
      "execution_count": 187,
      "outputs": [
        {
          "output_type": "execute_result",
          "data": {
            "text/html": [
              "<div>\n",
              "<style scoped>\n",
              "    .dataframe tbody tr th:only-of-type {\n",
              "        vertical-align: middle;\n",
              "    }\n",
              "\n",
              "    .dataframe tbody tr th {\n",
              "        vertical-align: top;\n",
              "    }\n",
              "\n",
              "    .dataframe thead th {\n",
              "        text-align: right;\n",
              "    }\n",
              "</style>\n",
              "<table border=\"1\" class=\"dataframe\">\n",
              "  <thead>\n",
              "    <tr style=\"text-align: right;\">\n",
              "      <th></th>\n",
              "      <th>tweet_id</th>\n",
              "      <th>tweet_created_at</th>\n",
              "      <th>tweet_created_on_holiday_bool</th>\n",
              "      <th>tweet_created_on_weekend_bool</th>\n",
              "      <th>tweet_created_at_noon_bool</th>\n",
              "      <th>tweet_created_at_eve_bool</th>\n",
              "      <th>user_id</th>\n",
              "      <th>user_screen_name</th>\n",
              "      <th>user_screen_name_length</th>\n",
              "      <th>user_no_of_tweets</th>\n",
              "      <th>user_no_of_followers</th>\n",
              "      <th>user_no_of_followings</th>\n",
              "      <th>user_account_age</th>\n",
              "      <th>user_no_of_favourites</th>\n",
              "      <th>user_average_tweets</th>\n",
              "      <th>user_average_favourites</th>\n",
              "      <th>user_account_location</th>\n",
              "      <th>tweet_text</th>\n",
              "      <th>tweet_text_length</th>\n",
              "      <th>tweet_text_optimal_length</th>\n",
              "      <th>tweet_text_no_of_hashtags</th>\n",
              "      <th>tweet_text_contains_hashtags</th>\n",
              "      <th>tweet_text_contains_url</th>\n",
              "      <th>tweet_text_no_of_user_mentions</th>\n",
              "      <th>tweet_text_contains_user_mentions</th>\n",
              "      <th>tweet_text_sentiment</th>\n",
              "      <th>tweet_text_contains_media</th>\n",
              "      <th>tweet_text_contains_number</th>\n",
              "      <th>tweet_text_contains_upper_words</th>\n",
              "      <th>tweet_text_contains_lower_words</th>\n",
              "      <th>tweet_text_contains_excl</th>\n",
              "      <th>tweet_text_contains_retweet_suggestion</th>\n",
              "      <th>retweeted</th>\n",
              "      <th>retweets</th>\n",
              "    </tr>\n",
              "  </thead>\n",
              "  <tbody>\n",
              "    <tr>\n",
              "      <th>0</th>\n",
              "      <td>~1357587318119407616~</td>\n",
              "      <td>Fri Feb 05 07:10:14 +0000 2021</td>\n",
              "      <td>0</td>\n",
              "      <td>0</td>\n",
              "      <td>0</td>\n",
              "      <td>0</td>\n",
              "      <td>~327890669~</td>\n",
              "      <td>mavirise</td>\n",
              "      <td>8</td>\n",
              "      <td>4355</td>\n",
              "      <td>49</td>\n",
              "      <td>57</td>\n",
              "      <td>3506</td>\n",
              "      <td>801</td>\n",
              "      <td>1.242156</td>\n",
              "      <td>0.228465</td>\n",
              "      <td>Shimla Urban, India</td>\n",
              "      <td>104 Govt should repeal anti farmer laws !! #Fa...</td>\n",
              "      <td>99</td>\n",
              "      <td>1</td>\n",
              "      <td>3</td>\n",
              "      <td>1</td>\n",
              "      <td>0</td>\n",
              "      <td>0</td>\n",
              "      <td>0</td>\n",
              "      <td>nue</td>\n",
              "      <td>0</td>\n",
              "      <td>1</td>\n",
              "      <td>0</td>\n",
              "      <td>1</td>\n",
              "      <td>1</td>\n",
              "      <td>0</td>\n",
              "      <td>False</td>\n",
              "      <td>0</td>\n",
              "    </tr>\n",
              "    <tr>\n",
              "      <th>1</th>\n",
              "      <td>~1357587287681323010~</td>\n",
              "      <td>Fri Feb 05 07:10:06 +0000 2021</td>\n",
              "      <td>0</td>\n",
              "      <td>0</td>\n",
              "      <td>0</td>\n",
              "      <td>0</td>\n",
              "      <td>~327890669~</td>\n",
              "      <td>mavirise</td>\n",
              "      <td>8</td>\n",
              "      <td>4355</td>\n",
              "      <td>49</td>\n",
              "      <td>57</td>\n",
              "      <td>3506</td>\n",
              "      <td>801</td>\n",
              "      <td>1.242156</td>\n",
              "      <td>0.228465</td>\n",
              "      <td>Shimla Urban, India</td>\n",
              "      <td>103 Govt should repeal anti farmer laws !! #Fa...</td>\n",
              "      <td>99</td>\n",
              "      <td>1</td>\n",
              "      <td>3</td>\n",
              "      <td>1</td>\n",
              "      <td>0</td>\n",
              "      <td>0</td>\n",
              "      <td>0</td>\n",
              "      <td>nue</td>\n",
              "      <td>0</td>\n",
              "      <td>1</td>\n",
              "      <td>0</td>\n",
              "      <td>1</td>\n",
              "      <td>1</td>\n",
              "      <td>0</td>\n",
              "      <td>False</td>\n",
              "      <td>0</td>\n",
              "    </tr>\n",
              "    <tr>\n",
              "      <th>2</th>\n",
              "      <td>~1357587268689485825~</td>\n",
              "      <td>Fri Feb 05 07:10:02 +0000 2021</td>\n",
              "      <td>0</td>\n",
              "      <td>0</td>\n",
              "      <td>0</td>\n",
              "      <td>0</td>\n",
              "      <td>~1216545386040418304~</td>\n",
              "      <td>aman89086818</td>\n",
              "      <td>12</td>\n",
              "      <td>48</td>\n",
              "      <td>0</td>\n",
              "      <td>7</td>\n",
              "      <td>389</td>\n",
              "      <td>39</td>\n",
              "      <td>0.123393</td>\n",
              "      <td>0.100257</td>\n",
              "      <td>NaN</td>\n",
              "      <td>Thank you internaltional celebrity who stand w...</td>\n",
              "      <td>75</td>\n",
              "      <td>1</td>\n",
              "      <td>1</td>\n",
              "      <td>1</td>\n",
              "      <td>0</td>\n",
              "      <td>0</td>\n",
              "      <td>0</td>\n",
              "      <td>nue</td>\n",
              "      <td>0</td>\n",
              "      <td>0</td>\n",
              "      <td>0</td>\n",
              "      <td>1</td>\n",
              "      <td>0</td>\n",
              "      <td>0</td>\n",
              "      <td>False</td>\n",
              "      <td>0</td>\n",
              "    </tr>\n",
              "    <tr>\n",
              "      <th>3</th>\n",
              "      <td>~1357587262469525507~</td>\n",
              "      <td>Fri Feb 05 07:10:00 +0000 2021</td>\n",
              "      <td>0</td>\n",
              "      <td>0</td>\n",
              "      <td>0</td>\n",
              "      <td>0</td>\n",
              "      <td>~1731144182~</td>\n",
              "      <td>jagbirsingh111</td>\n",
              "      <td>14</td>\n",
              "      <td>196</td>\n",
              "      <td>2</td>\n",
              "      <td>10</td>\n",
              "      <td>2710</td>\n",
              "      <td>97</td>\n",
              "      <td>0.072325</td>\n",
              "      <td>0.035793</td>\n",
              "      <td>NaN</td>\n",
              "      <td>@cnni They are just govt's puppet.that's why t...</td>\n",
              "      <td>129</td>\n",
              "      <td>0</td>\n",
              "      <td>2</td>\n",
              "      <td>1</td>\n",
              "      <td>0</td>\n",
              "      <td>1</td>\n",
              "      <td>1</td>\n",
              "      <td>neg</td>\n",
              "      <td>0</td>\n",
              "      <td>0</td>\n",
              "      <td>0</td>\n",
              "      <td>1</td>\n",
              "      <td>0</td>\n",
              "      <td>0</td>\n",
              "      <td>False</td>\n",
              "      <td>0</td>\n",
              "    </tr>\n",
              "    <tr>\n",
              "      <th>4</th>\n",
              "      <td>~1357587255699775488~</td>\n",
              "      <td>Fri Feb 05 07:09:59 +0000 2021</td>\n",
              "      <td>0</td>\n",
              "      <td>0</td>\n",
              "      <td>0</td>\n",
              "      <td>0</td>\n",
              "      <td>~327890669~</td>\n",
              "      <td>mavirise</td>\n",
              "      <td>8</td>\n",
              "      <td>4355</td>\n",
              "      <td>49</td>\n",
              "      <td>57</td>\n",
              "      <td>3506</td>\n",
              "      <td>801</td>\n",
              "      <td>1.242156</td>\n",
              "      <td>0.228465</td>\n",
              "      <td>Shimla Urban, India</td>\n",
              "      <td>102 Govt should repeal anti farmer laws !! #Fa...</td>\n",
              "      <td>99</td>\n",
              "      <td>1</td>\n",
              "      <td>3</td>\n",
              "      <td>1</td>\n",
              "      <td>0</td>\n",
              "      <td>0</td>\n",
              "      <td>0</td>\n",
              "      <td>nue</td>\n",
              "      <td>0</td>\n",
              "      <td>1</td>\n",
              "      <td>0</td>\n",
              "      <td>1</td>\n",
              "      <td>1</td>\n",
              "      <td>0</td>\n",
              "      <td>False</td>\n",
              "      <td>0</td>\n",
              "    </tr>\n",
              "  </tbody>\n",
              "</table>\n",
              "</div>"
            ],
            "text/plain": [
              "                tweet_id                tweet_created_at  ...  retweeted  retweets\n",
              "0  ~1357587318119407616~  Fri Feb 05 07:10:14 +0000 2021  ...      False         0\n",
              "1  ~1357587287681323010~  Fri Feb 05 07:10:06 +0000 2021  ...      False         0\n",
              "2  ~1357587268689485825~  Fri Feb 05 07:10:02 +0000 2021  ...      False         0\n",
              "3  ~1357587262469525507~  Fri Feb 05 07:10:00 +0000 2021  ...      False         0\n",
              "4  ~1357587255699775488~  Fri Feb 05 07:09:59 +0000 2021  ...      False         0\n",
              "\n",
              "[5 rows x 34 columns]"
            ]
          },
          "metadata": {
            "tags": []
          },
          "execution_count": 187
        }
      ]
    },
    {
      "cell_type": "code",
      "metadata": {
        "id": "pqKeZIhAtMWH",
        "colab": {
          "base_uri": "https://localhost:8080/"
        },
        "outputId": "3d478f09-c94e-40a9-9f6a-5de13dfa3167"
      },
      "source": [
        "print(df.retweets)   #To print retweets column"
      ],
      "execution_count": 188,
      "outputs": [
        {
          "output_type": "stream",
          "text": [
            "0        0\n",
            "1        0\n",
            "2        0\n",
            "3        0\n",
            "4        0\n",
            "        ..\n",
            "25689    3\n",
            "25690    1\n",
            "25691    6\n",
            "25692    4\n",
            "25693    0\n",
            "Name: retweets, Length: 25694, dtype: int64\n"
          ],
          "name": "stdout"
        }
      ]
    },
    {
      "cell_type": "code",
      "metadata": {
        "id": "z-9I5B8S2a5L",
        "colab": {
          "base_uri": "https://localhost:8080/"
        },
        "outputId": "62725cb0-789e-4345-e738-96b4bf8ce994"
      },
      "source": [
        "df.retweets.value_counts()    #Counts of each retweet to get an idea of distribution of data"
      ],
      "execution_count": 189,
      "outputs": [
        {
          "output_type": "execute_result",
          "data": {
            "text/plain": [
              "0      15827\n",
              "1       4677\n",
              "2       1683\n",
              "3        776\n",
              "4        498\n",
              "       ...  \n",
              "424        1\n",
              "216        1\n",
              "200        1\n",
              "184        1\n",
              "407        1\n",
              "Name: retweets, Length: 294, dtype: int64"
            ]
          },
          "metadata": {
            "tags": []
          },
          "execution_count": 189
        }
      ]
    },
    {
      "cell_type": "code",
      "metadata": {
        "colab": {
          "base_uri": "https://localhost:8080/",
          "height": 283
        },
        "id": "NH8mupFUZCRu",
        "outputId": "027efb7c-2779-405d-ea44-a753a0a463d5"
      },
      "source": [
        "df.boxplot(column=['retweets'])   #To visualize the data distribution retweets column"
      ],
      "execution_count": 190,
      "outputs": [
        {
          "output_type": "execute_result",
          "data": {
            "text/plain": [
              "<matplotlib.axes._subplots.AxesSubplot at 0x7efe9b049650>"
            ]
          },
          "metadata": {
            "tags": []
          },
          "execution_count": 190
        },
        {
          "output_type": "display_data",
          "data": {
            "image/png": "[encoded data removed]",
            "text/plain": [
              "<Figure size 432x288 with 1 Axes>"
            ]
          },
          "metadata": {
            "tags": [],
            "needs_background": "light"
          }
        }
      ]
    },
    {
      "cell_type": "code",
      "metadata": {
        "id": "2mAv8T9l65JH",
        "colab": {
          "base_uri": "https://localhost:8080/",
          "height": 297
        },
        "outputId": "3fae8d50-7a89-4724-c2af-b4959702b56c"
      },
      "source": [
        "sns.boxplot(x=df['retweets'])    #Using seaborn module method to create a boxplot for visualization"
      ],
      "execution_count": 191,
      "outputs": [
        {
          "output_type": "execute_result",
          "data": {
            "text/plain": [
              "<matplotlib.axes._subplots.AxesSubplot at 0x7efe9cb3d110>"
            ]
          },
          "metadata": {
            "tags": []
          },
          "execution_count": 191
        },
        {
          "output_type": "display_data",
          "data": {
            "image/png": "[encoded data removed]",
            "text/plain": [
              "<Figure size 432x288 with 1 Axes>"
            ]
          },
          "metadata": {
            "tags": [],
            "needs_background": "light"
          }
        }
      ]
    },
    {
      "cell_type": "code",
      "metadata": {
        "colab": {
          "base_uri": "https://localhost:8080/",
          "height": 308
        },
        "id": "JexOpgdStH8M",
        "outputId": "d9287b71-7613-4624-9c18-baa2d88de043"
      },
      "source": [
        "df.describe()      #To understand the data well"
      ],
      "execution_count": 192,
      "outputs": [
        {
          "output_type": "execute_result",
          "data": {
            "text/html": [
              "<div>\n",
              "<style scoped>\n",
              "    .dataframe tbody tr th:only-of-type {\n",
              "        vertical-align: middle;\n",
              "    }\n",
              "\n",
              "    .dataframe tbody tr th {\n",
              "        vertical-align: top;\n",
              "    }\n",
              "\n",
              "    .dataframe thead th {\n",
              "        text-align: right;\n",
              "    }\n",
              "</style>\n",
              "<table border=\"1\" class=\"dataframe\">\n",
              "  <thead>\n",
              "    <tr style=\"text-align: right;\">\n",
              "      <th></th>\n",
              "      <th>tweet_created_on_holiday_bool</th>\n",
              "      <th>tweet_created_on_weekend_bool</th>\n",
              "      <th>tweet_created_at_noon_bool</th>\n",
              "      <th>tweet_created_at_eve_bool</th>\n",
              "      <th>user_screen_name_length</th>\n",
              "      <th>user_no_of_tweets</th>\n",
              "      <th>user_no_of_followers</th>\n",
              "      <th>user_no_of_followings</th>\n",
              "      <th>user_account_age</th>\n",
              "      <th>user_no_of_favourites</th>\n",
              "      <th>user_average_tweets</th>\n",
              "      <th>user_average_favourites</th>\n",
              "      <th>tweet_text_length</th>\n",
              "      <th>tweet_text_optimal_length</th>\n",
              "      <th>tweet_text_no_of_hashtags</th>\n",
              "      <th>tweet_text_contains_hashtags</th>\n",
              "      <th>tweet_text_contains_url</th>\n",
              "      <th>tweet_text_no_of_user_mentions</th>\n",
              "      <th>tweet_text_contains_user_mentions</th>\n",
              "      <th>tweet_text_contains_media</th>\n",
              "      <th>tweet_text_contains_number</th>\n",
              "      <th>tweet_text_contains_upper_words</th>\n",
              "      <th>tweet_text_contains_lower_words</th>\n",
              "      <th>tweet_text_contains_excl</th>\n",
              "      <th>tweet_text_contains_retweet_suggestion</th>\n",
              "      <th>retweets</th>\n",
              "    </tr>\n",
              "  </thead>\n",
              "  <tbody>\n",
              "    <tr>\n",
              "      <th>count</th>\n",
              "      <td>25694.0</td>\n",
              "      <td>25694.000000</td>\n",
              "      <td>25694.000000</td>\n",
              "      <td>25694.000000</td>\n",
              "      <td>25694.000000</td>\n",
              "      <td>25694.000000</td>\n",
              "      <td>2.569400e+04</td>\n",
              "      <td>25694.000000</td>\n",
              "      <td>25694.000000</td>\n",
              "      <td>25694.000000</td>\n",
              "      <td>25694.000000</td>\n",
              "      <td>25694.000000</td>\n",
              "      <td>25694.000000</td>\n",
              "      <td>25694.000000</td>\n",
              "      <td>25694.000000</td>\n",
              "      <td>25694.000000</td>\n",
              "      <td>25694.000000</td>\n",
              "      <td>25694.000000</td>\n",
              "      <td>25694.000000</td>\n",
              "      <td>25694.000000</td>\n",
              "      <td>25694.000000</td>\n",
              "      <td>25694.000000</td>\n",
              "      <td>25694.000000</td>\n",
              "      <td>25694.000000</td>\n",
              "      <td>25694.000000</td>\n",
              "      <td>25694.000000</td>\n",
              "    </tr>\n",
              "    <tr>\n",
              "      <th>mean</th>\n",
              "      <td>0.0</td>\n",
              "      <td>0.015256</td>\n",
              "      <td>0.096404</td>\n",
              "      <td>0.080213</td>\n",
              "      <td>11.995135</td>\n",
              "      <td>5521.590255</td>\n",
              "      <td>2.410177e+03</td>\n",
              "      <td>402.654705</td>\n",
              "      <td>1270.251382</td>\n",
              "      <td>5792.574103</td>\n",
              "      <td>16.547797</td>\n",
              "      <td>15.575795</td>\n",
              "      <td>110.292597</td>\n",
              "      <td>0.175605</td>\n",
              "      <td>1.249708</td>\n",
              "      <td>0.705846</td>\n",
              "      <td>0.619717</td>\n",
              "      <td>0.657975</td>\n",
              "      <td>0.385615</td>\n",
              "      <td>0.119327</td>\n",
              "      <td>0.663813</td>\n",
              "      <td>0.214992</td>\n",
              "      <td>0.892387</td>\n",
              "      <td>0.093329</td>\n",
              "      <td>0.234140</td>\n",
              "      <td>9.884954</td>\n",
              "    </tr>\n",
              "    <tr>\n",
              "      <th>std</th>\n",
              "      <td>0.0</td>\n",
              "      <td>0.122574</td>\n",
              "      <td>0.295150</td>\n",
              "      <td>0.271628</td>\n",
              "      <td>2.567414</td>\n",
              "      <td>20504.915268</td>\n",
              "      <td>8.179765e+04</td>\n",
              "      <td>1219.261763</td>\n",
              "      <td>1406.534540</td>\n",
              "      <td>18283.982312</td>\n",
              "      <td>49.988627</td>\n",
              "      <td>41.774679</td>\n",
              "      <td>33.680963</td>\n",
              "      <td>0.380491</td>\n",
              "      <td>1.183835</td>\n",
              "      <td>0.455671</td>\n",
              "      <td>0.485466</td>\n",
              "      <td>1.153367</td>\n",
              "      <td>0.486750</td>\n",
              "      <td>0.324180</td>\n",
              "      <td>0.472413</td>\n",
              "      <td>0.410825</td>\n",
              "      <td>0.309897</td>\n",
              "      <td>0.290899</td>\n",
              "      <td>0.423469</td>\n",
              "      <td>415.079240</td>\n",
              "    </tr>\n",
              "    <tr>\n",
              "      <th>min</th>\n",
              "      <td>0.0</td>\n",
              "      <td>0.000000</td>\n",
              "      <td>0.000000</td>\n",
              "      <td>0.000000</td>\n",
              "      <td>4.000000</td>\n",
              "      <td>1.000000</td>\n",
              "      <td>0.000000e+00</td>\n",
              "      <td>0.000000</td>\n",
              "      <td>0.000000</td>\n",
              "      <td>0.000000</td>\n",
              "      <td>0.000000</td>\n",
              "      <td>0.000000</td>\n",
              "      <td>21.000000</td>\n",
              "      <td>0.000000</td>\n",
              "      <td>0.000000</td>\n",
              "      <td>0.000000</td>\n",
              "      <td>0.000000</td>\n",
              "      <td>0.000000</td>\n",
              "      <td>0.000000</td>\n",
              "      <td>0.000000</td>\n",
              "      <td>0.000000</td>\n",
              "      <td>0.000000</td>\n",
              "      <td>0.000000</td>\n",
              "      <td>0.000000</td>\n",
              "      <td>0.000000</td>\n",
              "      <td>0.000000</td>\n",
              "    </tr>\n",
              "    <tr>\n",
              "      <th>25%</th>\n",
              "      <td>0.0</td>\n",
              "      <td>0.000000</td>\n",
              "      <td>0.000000</td>\n",
              "      <td>0.000000</td>\n",
              "      <td>10.000000</td>\n",
              "      <td>95.000000</td>\n",
              "      <td>8.000000e+00</td>\n",
              "      <td>38.000000</td>\n",
              "      <td>67.000000</td>\n",
              "      <td>97.000000</td>\n",
              "      <td>0.256579</td>\n",
              "      <td>0.225150</td>\n",
              "      <td>82.000000</td>\n",
              "      <td>0.000000</td>\n",
              "      <td>0.000000</td>\n",
              "      <td>0.000000</td>\n",
              "      <td>0.000000</td>\n",
              "      <td>0.000000</td>\n",
              "      <td>0.000000</td>\n",
              "      <td>0.000000</td>\n",
              "      <td>0.000000</td>\n",
              "      <td>0.000000</td>\n",
              "      <td>1.000000</td>\n",
              "      <td>0.000000</td>\n",
              "      <td>0.000000</td>\n",
              "      <td>0.000000</td>\n",
              "    </tr>\n",
              "    <tr>\n",
              "      <th>50%</th>\n",
              "      <td>0.0</td>\n",
              "      <td>0.000000</td>\n",
              "      <td>0.000000</td>\n",
              "      <td>0.000000</td>\n",
              "      <td>12.000000</td>\n",
              "      <td>651.000000</td>\n",
              "      <td>4.900000e+01</td>\n",
              "      <td>118.000000</td>\n",
              "      <td>487.000000</td>\n",
              "      <td>666.000000</td>\n",
              "      <td>1.536703</td>\n",
              "      <td>1.933333</td>\n",
              "      <td>127.000000</td>\n",
              "      <td>0.000000</td>\n",
              "      <td>1.000000</td>\n",
              "      <td>1.000000</td>\n",
              "      <td>1.000000</td>\n",
              "      <td>0.000000</td>\n",
              "      <td>0.000000</td>\n",
              "      <td>0.000000</td>\n",
              "      <td>1.000000</td>\n",
              "      <td>0.000000</td>\n",
              "      <td>1.000000</td>\n",
              "      <td>0.000000</td>\n",
              "      <td>0.000000</td>\n",
              "      <td>0.000000</td>\n",
              "    </tr>\n",
              "    <tr>\n",
              "      <th>75%</th>\n",
              "      <td>0.0</td>\n",
              "      <td>0.000000</td>\n",
              "      <td>0.000000</td>\n",
              "      <td>0.000000</td>\n",
              "      <td>14.000000</td>\n",
              "      <td>4019.000000</td>\n",
              "      <td>2.507500e+02</td>\n",
              "      <td>345.750000</td>\n",
              "      <td>2391.750000</td>\n",
              "      <td>3854.500000</td>\n",
              "      <td>9.493349</td>\n",
              "      <td>10.175119</td>\n",
              "      <td>140.000000</td>\n",
              "      <td>0.000000</td>\n",
              "      <td>2.000000</td>\n",
              "      <td>1.000000</td>\n",
              "      <td>1.000000</td>\n",
              "      <td>1.000000</td>\n",
              "      <td>1.000000</td>\n",
              "      <td>0.000000</td>\n",
              "      <td>1.000000</td>\n",
              "      <td>0.000000</td>\n",
              "      <td>1.000000</td>\n",
              "      <td>0.000000</td>\n",
              "      <td>0.000000</td>\n",
              "      <td>1.000000</td>\n",
              "    </tr>\n",
              "    <tr>\n",
              "      <th>max</th>\n",
              "      <td>0.0</td>\n",
              "      <td>1.000000</td>\n",
              "      <td>1.000000</td>\n",
              "      <td>1.000000</td>\n",
              "      <td>15.000000</td>\n",
              "      <td>829961.000000</td>\n",
              "      <td>5.483319e+06</td>\n",
              "      <td>79636.000000</td>\n",
              "      <td>5044.000000</td>\n",
              "      <td>451377.000000</td>\n",
              "      <td>985.571429</td>\n",
              "      <td>1024.000000</td>\n",
              "      <td>152.000000</td>\n",
              "      <td>1.000000</td>\n",
              "      <td>10.000000</td>\n",
              "      <td>1.000000</td>\n",
              "      <td>1.000000</td>\n",
              "      <td>11.000000</td>\n",
              "      <td>1.000000</td>\n",
              "      <td>1.000000</td>\n",
              "      <td>1.000000</td>\n",
              "      <td>1.000000</td>\n",
              "      <td>1.000000</td>\n",
              "      <td>1.000000</td>\n",
              "      <td>1.000000</td>\n",
              "      <td>62666.000000</td>\n",
              "    </tr>\n",
              "  </tbody>\n",
              "</table>\n",
              "</div>"
            ],
            "text/plain": [
              "       tweet_created_on_holiday_bool  ...      retweets\n",
              "count                        25694.0  ...  25694.000000\n",
              "mean                             0.0  ...      9.884954\n",
              "std                              0.0  ...    415.079240\n",
              "min                              0.0  ...      0.000000\n",
              "25%                              0.0  ...      0.000000\n",
              "50%                              0.0  ...      0.000000\n",
              "75%                              0.0  ...      1.000000\n",
              "max                              0.0  ...  62666.000000\n",
              "\n",
              "[8 rows x 26 columns]"
            ]
          },
          "metadata": {
            "tags": []
          },
          "execution_count": 192
        }
      ]
    },
    {
      "cell_type": "code",
      "metadata": {
        "colab": {
          "base_uri": "https://localhost:8080/"
        },
        "id": "TjNmeup13m-O",
        "outputId": "5ed94b50-280a-4fe2-8a68-7c5742e5091b"
      },
      "source": [
        "df.isnull().any()    #To know if there is any NA/NULL cell in the dataset"
      ],
      "execution_count": 193,
      "outputs": [
        {
          "output_type": "execute_result",
          "data": {
            "text/plain": [
              "tweet_id                                  False\n",
              "tweet_created_at                          False\n",
              "tweet_created_on_holiday_bool             False\n",
              "tweet_created_on_weekend_bool             False\n",
              "tweet_created_at_noon_bool                False\n",
              "tweet_created_at_eve_bool                 False\n",
              "user_id                                   False\n",
              "user_screen_name                          False\n",
              "user_screen_name_length                   False\n",
              "user_no_of_tweets                         False\n",
              "user_no_of_followers                      False\n",
              "user_no_of_followings                     False\n",
              "user_account_age                          False\n",
              "user_no_of_favourites                     False\n",
              "user_average_tweets                       False\n",
              "user_average_favourites                   False\n",
              "user_account_location                      True\n",
              "tweet_text                                False\n",
              "tweet_text_length                         False\n",
              "tweet_text_optimal_length                 False\n",
              "tweet_text_no_of_hashtags                 False\n",
              "tweet_text_contains_hashtags              False\n",
              "tweet_text_contains_url                   False\n",
              "tweet_text_no_of_user_mentions            False\n",
              "tweet_text_contains_user_mentions         False\n",
              "tweet_text_sentiment                      False\n",
              "tweet_text_contains_media                 False\n",
              "tweet_text_contains_number                False\n",
              "tweet_text_contains_upper_words           False\n",
              "tweet_text_contains_lower_words           False\n",
              "tweet_text_contains_excl                  False\n",
              "tweet_text_contains_retweet_suggestion    False\n",
              "retweeted                                 False\n",
              "retweets                                  False\n",
              "dtype: bool"
            ]
          },
          "metadata": {
            "tags": []
          },
          "execution_count": 193
        }
      ]
    },
    {
      "cell_type": "markdown",
      "metadata": {
        "id": "GQgz_GO72sI6"
      },
      "source": [
        "* *user_account_location shows True, indicating it has some null/NAN values* "
      ]
    },
    {
      "cell_type": "code",
      "metadata": {
        "colab": {
          "base_uri": "https://localhost:8080/"
        },
        "id": "-Unmc4vs21i6",
        "outputId": "ff0bd8c1-f998-44bf-f95d-960941c7851b"
      },
      "source": [
        "df[\"user_account_location\"].isnull().sum()   #Number of rows having Null value,Null values is automatically handled by pandas by replacing them with NAN"
      ],
      "execution_count": 194,
      "outputs": [
        {
          "output_type": "execute_result",
          "data": {
            "text/plain": [
              "11436"
            ]
          },
          "metadata": {
            "tags": []
          },
          "execution_count": 194
        }
      ]
    },
    {
      "cell_type": "code",
      "metadata": {
        "id": "e9NXsCM7rkJU",
        "colab": {
          "base_uri": "https://localhost:8080/",
          "height": 319
        },
        "outputId": "ecabc823-401b-4f9b-c50e-30e6b76f9830"
      },
      "source": [
        "plt.hist(df.retweets,bins = [0,100,10000])   #Using histogram to visualize the frequency distribution of retweets"
      ],
      "execution_count": 195,
      "outputs": [
        {
          "output_type": "execute_result",
          "data": {
            "text/plain": [
              "(array([25435.,   257.]),\n",
              " array([    0,   100, 10000]),\n",
              " <a list of 2 Patch objects>)"
            ]
          },
          "metadata": {
            "tags": []
          },
          "execution_count": 195
        },
        {
          "output_type": "display_data",
          "data": {
            "image/png": "[encoded data removed]",
            "text/plain": [
              "<Figure size 432x288 with 1 Axes>"
            ]
          },
          "metadata": {
            "tags": [],
            "needs_background": "light"
          }
        }
      ]
    },
    {
      "cell_type": "markdown",
      "metadata": {
        "id": "gmsf6Mhz5UGV"
      },
      "source": [
        "Basically, I am interested in binning the data in the below categories :\r\n",
        "\r\n",
        "1.   Not Trending\r\n",
        "2.   Moderately Trending\r\n",
        "3.   Reasonably Trending\r\n",
        "4.   Highly trending\r\n",
        "\r\n",
        "Logic behind naming is:\r\n",
        "\r\n",
        "*The more the retweets,the more it is trending.*\r\n",
        "\r\n",
        "Based on my analysis  of the retweets data using histogram and boxplot,I found out the below insights:\r\n",
        "\r\n",
        "\r\n",
        "*   Nearly 90% of the retweets were in the range of 0 to 3/4 retweets.\r\n",
        "*   Nearly 9% of the retweets were in the range of 4 to 1000 retweets.\r\n",
        "*   Nearly 0.1% of the retweets were in the range 1000 to 10000.\r\n",
        "*   Nearly 0.001% of the retweets were greater than 10000.\r\n",
        "\r\n",
        "So, the mathematical logic I chose for this was:\r\n",
        "\r\n",
        "\r\n",
        "\r\n",
        "1.   I binned the initial 90 percentile of the retweets to \"Not Trending\" bin.\r\n",
        "2.   The next 9.9 percentile to \"Moderately Trending \" bin.\r\n",
        "3.   The next 0.1 percentile to \"Resonably Trending\" bin.\r\n",
        "4.   And the top 0.001 percentile to \"Highly Trending\" bin.\r\n",
        "\r\n",
        "Method used to bin the data is qcut().\r\n",
        "\r\n",
        "Using this method,I created a new column \"trending_level\" which gives us the trend level of that tweet.\r\n",
        "\r\n",
        "\r\n",
        "\r\n",
        "\r\n",
        "\r\n",
        "\r\n",
        "\r\n",
        "\r\n"
      ]
    },
    {
      "cell_type": "code",
      "metadata": {
        "id": "C4yfFBp60JbZ",
        "colab": {
          "base_uri": "https://localhost:8080/",
          "height": 391
        },
        "outputId": "3aab0d30-af72-4a8c-b06e-e599fd721318"
      },
      "source": [
        "retweets_label = [\"Not Trending\",\"Moderately Trending\",\"Reasonably Trending\",\"Highly Trending\"]      #Labels representig the bins\r\n",
        "df['trending_level'],bin_edges = pd.qcut(df['retweets'],q = [0,.9,.999,.9999,1],precision=4,labels=retweets_label,retbins = True)  #Mathematical logic for bins using qcut function\r\n",
        "df.tail(5)"
      ],
      "execution_count": 196,
      "outputs": [
        {
          "output_type": "execute_result",
          "data": {
            "text/html": [
              "<div>\n",
              "<style scoped>\n",
              "    .dataframe tbody tr th:only-of-type {\n",
              "        vertical-align: middle;\n",
              "    }\n",
              "\n",
              "    .dataframe tbody tr th {\n",
              "        vertical-align: top;\n",
              "    }\n",
              "\n",
              "    .dataframe thead th {\n",
              "        text-align: right;\n",
              "    }\n",
              "</style>\n",
              "<table border=\"1\" class=\"dataframe\">\n",
              "  <thead>\n",
              "    <tr style=\"text-align: right;\">\n",
              "      <th></th>\n",
              "      <th>tweet_id</th>\n",
              "      <th>tweet_created_at</th>\n",
              "      <th>tweet_created_on_holiday_bool</th>\n",
              "      <th>tweet_created_on_weekend_bool</th>\n",
              "      <th>tweet_created_at_noon_bool</th>\n",
              "      <th>tweet_created_at_eve_bool</th>\n",
              "      <th>user_id</th>\n",
              "      <th>user_screen_name</th>\n",
              "      <th>user_screen_name_length</th>\n",
              "      <th>user_no_of_tweets</th>\n",
              "      <th>user_no_of_followers</th>\n",
              "      <th>user_no_of_followings</th>\n",
              "      <th>user_account_age</th>\n",
              "      <th>user_no_of_favourites</th>\n",
              "      <th>user_average_tweets</th>\n",
              "      <th>user_average_favourites</th>\n",
              "      <th>user_account_location</th>\n",
              "      <th>tweet_text</th>\n",
              "      <th>tweet_text_length</th>\n",
              "      <th>tweet_text_optimal_length</th>\n",
              "      <th>tweet_text_no_of_hashtags</th>\n",
              "      <th>tweet_text_contains_hashtags</th>\n",
              "      <th>tweet_text_contains_url</th>\n",
              "      <th>tweet_text_no_of_user_mentions</th>\n",
              "      <th>tweet_text_contains_user_mentions</th>\n",
              "      <th>tweet_text_sentiment</th>\n",
              "      <th>tweet_text_contains_media</th>\n",
              "      <th>tweet_text_contains_number</th>\n",
              "      <th>tweet_text_contains_upper_words</th>\n",
              "      <th>tweet_text_contains_lower_words</th>\n",
              "      <th>tweet_text_contains_excl</th>\n",
              "      <th>tweet_text_contains_retweet_suggestion</th>\n",
              "      <th>retweeted</th>\n",
              "      <th>retweets</th>\n",
              "      <th>trending_level</th>\n",
              "    </tr>\n",
              "  </thead>\n",
              "  <tbody>\n",
              "    <tr>\n",
              "      <th>25689</th>\n",
              "      <td>~1355564551308275712~</td>\n",
              "      <td>Sat Jan 30 17:12:28 +0000 2021</td>\n",
              "      <td>0</td>\n",
              "      <td>1</td>\n",
              "      <td>0</td>\n",
              "      <td>0</td>\n",
              "      <td>~1335769041009602561~</td>\n",
              "      <td>sikh_lives</td>\n",
              "      <td>10</td>\n",
              "      <td>166</td>\n",
              "      <td>8</td>\n",
              "      <td>18</td>\n",
              "      <td>60</td>\n",
              "      <td>100</td>\n",
              "      <td>2.766667</td>\n",
              "      <td>1.666667</td>\n",
              "      <td>NaN</td>\n",
              "      <td>Reshare to support (Tiktok:indersinsights)\\n#P...</td>\n",
              "      <td>133</td>\n",
              "      <td>0</td>\n",
              "      <td>3</td>\n",
              "      <td>1</td>\n",
              "      <td>1</td>\n",
              "      <td>0</td>\n",
              "      <td>0</td>\n",
              "      <td>nue</td>\n",
              "      <td>0</td>\n",
              "      <td>1</td>\n",
              "      <td>0</td>\n",
              "      <td>1</td>\n",
              "      <td>0</td>\n",
              "      <td>1</td>\n",
              "      <td>False</td>\n",
              "      <td>3</td>\n",
              "      <td>Not Trending</td>\n",
              "    </tr>\n",
              "    <tr>\n",
              "      <th>25690</th>\n",
              "      <td>~1355507144536195084~</td>\n",
              "      <td>Sat Jan 30 13:24:22 +0000 2021</td>\n",
              "      <td>0</td>\n",
              "      <td>1</td>\n",
              "      <td>1</td>\n",
              "      <td>0</td>\n",
              "      <td>~3151632787~</td>\n",
              "      <td>KirthiGanesh1</td>\n",
              "      <td>13</td>\n",
              "      <td>1990</td>\n",
              "      <td>335</td>\n",
              "      <td>402</td>\n",
              "      <td>2126</td>\n",
              "      <td>2722</td>\n",
              "      <td>0.936030</td>\n",
              "      <td>1.280339</td>\n",
              "      <td>Bangalore</td>\n",
              "      <td>People who don’t even live in India are suppor...</td>\n",
              "      <td>140</td>\n",
              "      <td>0</td>\n",
              "      <td>0</td>\n",
              "      <td>0</td>\n",
              "      <td>1</td>\n",
              "      <td>0</td>\n",
              "      <td>0</td>\n",
              "      <td>pos</td>\n",
              "      <td>0</td>\n",
              "      <td>0</td>\n",
              "      <td>0</td>\n",
              "      <td>1</td>\n",
              "      <td>0</td>\n",
              "      <td>1</td>\n",
              "      <td>False</td>\n",
              "      <td>1</td>\n",
              "      <td>Not Trending</td>\n",
              "    </tr>\n",
              "    <tr>\n",
              "      <th>25691</th>\n",
              "      <td>~1355367760428204034~</td>\n",
              "      <td>Sat Jan 30 04:10:30 +0000 2021</td>\n",
              "      <td>0</td>\n",
              "      <td>1</td>\n",
              "      <td>0</td>\n",
              "      <td>0</td>\n",
              "      <td>~1335769041009602561~</td>\n",
              "      <td>sikh_lives</td>\n",
              "      <td>10</td>\n",
              "      <td>166</td>\n",
              "      <td>8</td>\n",
              "      <td>18</td>\n",
              "      <td>60</td>\n",
              "      <td>100</td>\n",
              "      <td>2.766667</td>\n",
              "      <td>1.666667</td>\n",
              "      <td>NaN</td>\n",
              "      <td>Re-share to support farmers✊🏼✊🏼#IStandWithFarm...</td>\n",
              "      <td>128</td>\n",
              "      <td>0</td>\n",
              "      <td>3</td>\n",
              "      <td>1</td>\n",
              "      <td>1</td>\n",
              "      <td>0</td>\n",
              "      <td>0</td>\n",
              "      <td>nue</td>\n",
              "      <td>0</td>\n",
              "      <td>1</td>\n",
              "      <td>0</td>\n",
              "      <td>1</td>\n",
              "      <td>0</td>\n",
              "      <td>1</td>\n",
              "      <td>False</td>\n",
              "      <td>6</td>\n",
              "      <td>Moderately Trending</td>\n",
              "    </tr>\n",
              "    <tr>\n",
              "      <th>25692</th>\n",
              "      <td>~1355311702347284490~</td>\n",
              "      <td>Sat Jan 30 00:27:44 +0000 2021</td>\n",
              "      <td>0</td>\n",
              "      <td>1</td>\n",
              "      <td>0</td>\n",
              "      <td>0</td>\n",
              "      <td>~1250250795142045696~</td>\n",
              "      <td>atwal1_rosey</td>\n",
              "      <td>12</td>\n",
              "      <td>1629</td>\n",
              "      <td>271</td>\n",
              "      <td>603</td>\n",
              "      <td>296</td>\n",
              "      <td>1117</td>\n",
              "      <td>5.503378</td>\n",
              "      <td>3.773649</td>\n",
              "      <td>Richmond, London</td>\n",
              "      <td>Thank you @TamikaGHamilton. World need to see ...</td>\n",
              "      <td>133</td>\n",
              "      <td>0</td>\n",
              "      <td>2</td>\n",
              "      <td>1</td>\n",
              "      <td>1</td>\n",
              "      <td>1</td>\n",
              "      <td>1</td>\n",
              "      <td>nue</td>\n",
              "      <td>0</td>\n",
              "      <td>1</td>\n",
              "      <td>0</td>\n",
              "      <td>1</td>\n",
              "      <td>0</td>\n",
              "      <td>0</td>\n",
              "      <td>False</td>\n",
              "      <td>4</td>\n",
              "      <td>Not Trending</td>\n",
              "    </tr>\n",
              "    <tr>\n",
              "      <th>25693</th>\n",
              "      <td>~1354874830772965383~</td>\n",
              "      <td>Thu Jan 28 19:31:46 +0000 2021</td>\n",
              "      <td>0</td>\n",
              "      <td>0</td>\n",
              "      <td>0</td>\n",
              "      <td>1</td>\n",
              "      <td>~1334154226604384257~</td>\n",
              "      <td>swappan1</td>\n",
              "      <td>8</td>\n",
              "      <td>806</td>\n",
              "      <td>199</td>\n",
              "      <td>555</td>\n",
              "      <td>65</td>\n",
              "      <td>559</td>\n",
              "      <td>12.400000</td>\n",
              "      <td>8.600000</td>\n",
              "      <td>ਪੰਜਾਬ</td>\n",
              "      <td>OUR FARMERS-RESPECT INDIAN FLAG #FarmerProtest...</td>\n",
              "      <td>130</td>\n",
              "      <td>0</td>\n",
              "      <td>4</td>\n",
              "      <td>1</td>\n",
              "      <td>1</td>\n",
              "      <td>0</td>\n",
              "      <td>0</td>\n",
              "      <td>nue</td>\n",
              "      <td>0</td>\n",
              "      <td>1</td>\n",
              "      <td>1</td>\n",
              "      <td>0</td>\n",
              "      <td>0</td>\n",
              "      <td>1</td>\n",
              "      <td>False</td>\n",
              "      <td>0</td>\n",
              "      <td>Not Trending</td>\n",
              "    </tr>\n",
              "  </tbody>\n",
              "</table>\n",
              "</div>"
            ],
            "text/plain": [
              "                    tweet_id  ...       trending_level\n",
              "25689  ~1355564551308275712~  ...         Not Trending\n",
              "25690  ~1355507144536195084~  ...         Not Trending\n",
              "25691  ~1355367760428204034~  ...  Moderately Trending\n",
              "25692  ~1355311702347284490~  ...         Not Trending\n",
              "25693  ~1354874830772965383~  ...         Not Trending\n",
              "\n",
              "[5 rows x 35 columns]"
            ]
          },
          "metadata": {
            "tags": []
          },
          "execution_count": 196
        }
      ]
    },
    {
      "cell_type": "code",
      "metadata": {
        "colab": {
          "base_uri": "https://localhost:8080/"
        },
        "id": "PytxHZXNnB14",
        "outputId": "fbc7c2c6-12a1-4539-e57c-b254ba78a8b6"
      },
      "source": [
        "result_table  = pd.DataFrame(zip(bin_edges,retweets_label),columns=['Limits','Tier'])   #Result table to know the current thresholds of my bins\r\n",
        "print(result_table)"
      ],
      "execution_count": 197,
      "outputs": [
        {
          "output_type": "stream",
          "text": [
            "      Limits                 Tier\n",
            "0     0.0000         Not Trending\n",
            "1     4.0000  Moderately Trending\n",
            "2   810.0000  Reasonably Trending\n",
            "3  7708.9921      Highly Trending\n"
          ],
          "name": "stdout"
        }
      ]
    },
    {
      "cell_type": "markdown",
      "metadata": {
        "id": "71BNgGZ_BLKA"
      },
      "source": [
        "# **Thank you**"
      ]
    }
  ]
}